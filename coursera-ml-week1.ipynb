{
 "cells": [
  {
   "cell_type": "code",
   "execution_count": 6,
   "metadata": {},
   "outputs": [],
   "source": [
    "import pandas as pd\n",
    "import matplotlib.pyplot as plt"
   ]
  },
  {
   "cell_type": "code",
   "execution_count": 4,
   "metadata": {},
   "outputs": [],
   "source": [
    "data_frame=pd.read_csv(\"000001.csv\")"
   ]
  },
  {
   "cell_type": "code",
   "execution_count": 5,
   "metadata": {},
   "outputs": [
    {
     "data": {
      "text/html": [
       "<div>\n",
       "<style scoped>\n",
       "    .dataframe tbody tr th:only-of-type {\n",
       "        vertical-align: middle;\n",
       "    }\n",
       "\n",
       "    .dataframe tbody tr th {\n",
       "        vertical-align: top;\n",
       "    }\n",
       "\n",
       "    .dataframe thead th {\n",
       "        text-align: right;\n",
       "    }\n",
       "</style>\n",
       "<table border=\"1\" class=\"dataframe\">\n",
       "  <thead>\n",
       "    <tr style=\"text-align: right;\">\n",
       "      <th></th>\n",
       "      <th>Date</th>\n",
       "      <th>Open</th>\n",
       "      <th>High</th>\n",
       "      <th>Low</th>\n",
       "      <th>Close</th>\n",
       "      <th>Turnover</th>\n",
       "      <th>Volume</th>\n",
       "    </tr>\n",
       "  </thead>\n",
       "  <tbody>\n",
       "    <tr>\n",
       "      <th>0</th>\n",
       "      <td>1/5/2015</td>\n",
       "      <td>3258.63</td>\n",
       "      <td>3369.28</td>\n",
       "      <td>3253.88</td>\n",
       "      <td>3350.52</td>\n",
       "      <td>549760.13</td>\n",
       "      <td>53135238400</td>\n",
       "    </tr>\n",
       "    <tr>\n",
       "      <th>1</th>\n",
       "      <td>1/6/2015</td>\n",
       "      <td>3330.80</td>\n",
       "      <td>3394.22</td>\n",
       "      <td>3303.18</td>\n",
       "      <td>3351.45</td>\n",
       "      <td>532398.46</td>\n",
       "      <td>50166169600</td>\n",
       "    </tr>\n",
       "    <tr>\n",
       "      <th>2</th>\n",
       "      <td>1/7/2015</td>\n",
       "      <td>3326.65</td>\n",
       "      <td>3374.90</td>\n",
       "      <td>3312.21</td>\n",
       "      <td>3373.95</td>\n",
       "      <td>436416.70</td>\n",
       "      <td>39191888000</td>\n",
       "    </tr>\n",
       "    <tr>\n",
       "      <th>3</th>\n",
       "      <td>1/8/2015</td>\n",
       "      <td>3371.96</td>\n",
       "      <td>3381.57</td>\n",
       "      <td>3285.10</td>\n",
       "      <td>3293.46</td>\n",
       "      <td>399230.30</td>\n",
       "      <td>37113116800</td>\n",
       "    </tr>\n",
       "    <tr>\n",
       "      <th>4</th>\n",
       "      <td>1/9/2015</td>\n",
       "      <td>3276.97</td>\n",
       "      <td>3404.83</td>\n",
       "      <td>3267.51</td>\n",
       "      <td>3285.41</td>\n",
       "      <td>458648.00</td>\n",
       "      <td>41024086400</td>\n",
       "    </tr>\n",
       "  </tbody>\n",
       "</table>\n",
       "</div>"
      ],
      "text/plain": [
       "       Date     Open     High      Low    Close   Turnover       Volume\n",
       "0  1/5/2015  3258.63  3369.28  3253.88  3350.52  549760.13  53135238400\n",
       "1  1/6/2015  3330.80  3394.22  3303.18  3351.45  532398.46  50166169600\n",
       "2  1/7/2015  3326.65  3374.90  3312.21  3373.95  436416.70  39191888000\n",
       "3  1/8/2015  3371.96  3381.57  3285.10  3293.46  399230.30  37113116800\n",
       "4  1/9/2015  3276.97  3404.83  3267.51  3285.41  458648.00  41024086400"
      ]
     },
     "execution_count": 5,
     "metadata": {},
     "output_type": "execute_result"
    }
   ],
   "source": [
    "data_frame.head()"
   ]
  },
  {
   "cell_type": "code",
   "execution_count": 9,
   "metadata": {},
   "outputs": [
    {
     "data": {
      "text/plain": [
       "Text(0, 0.5, 'Turnover')"
      ]
     },
     "execution_count": 9,
     "metadata": {},
     "output_type": "execute_result"
    },
    {
     "data": {
      "image/png": "[encoded data removed]",
      "text/plain": [
       "<Figure size 432x288 with 1 Axes>"
      ]
     },
     "metadata": {
      "needs_background": "light"
     },
     "output_type": "display_data"
    }
   ],
   "source": [
    "fig, ax = plt.subplots()\n",
    "plt.scatter(data_frame[\"High\"],data_frame[\"Turnover\"])\n",
    "ax.set_xlabel(\"High\")\n",
    "ax.set_ylabel(\"Turnover\")"
   ]
  },
  {
   "cell_type": "code",
   "execution_count": null,
   "metadata": {},
   "outputs": [],
   "source": []
  }
 ],
 "metadata": {
  "kernelspec": {
   "display_name": "Python (coursera-ml)",
   "language": "python",
   "name": "coursera-ml"
  },
  "language_info": {
   "codemirror_mode": {
    "name": "ipython",
    "version": 3
   },
   "file_extension": ".py",
   "mimetype": "text/x-python",
   "name": "python",
   "nbconvert_exporter": "python",
   "pygments_lexer": "ipython3",
   "version": "3.7.0"
  }
 },
 "nbformat": 4,
 "nbformat_minor": 4
}
